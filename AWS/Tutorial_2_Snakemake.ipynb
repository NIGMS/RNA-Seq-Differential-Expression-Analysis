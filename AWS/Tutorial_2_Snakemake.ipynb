{
 "cells": [
  {
   "cell_type": "markdown",
   "id": "99cfa998-06b6-4b42-ae3a-b4e011750d31",
   "metadata": {},
   "source": [
    "# RNA-Seq Analysis Training Demo (Snakemake)"
   ]
  },
  {
   "cell_type": "markdown",
   "id": "4126cb07-34ee-4780-838f-872015a882b3",
   "metadata": {},
   "source": [
    "## Overview"
   ]
  },
  {
   "cell_type": "markdown",
   "id": "f15ea992-faa6-4705-8384-eb5d81f5daff",
   "metadata": {},
   "source": [
    "This short tutorial demonstrates how to run an RNA-Seq workflow using a prokaryotic data set. Steps in the workflow include read trimming, read QC, read mapping, and counting mapped reads per gene to quantitate gene expression. This tutorial uses a popular workflow manager called 'snakemake'. More information on snakemake can be found <a href=\"https://snakemake.readthedocs.io/en/stable/\">here</a>. Running the code in this tutorial will take approximately 12 minutes.\n",
    "\n",
    "![RNA-Seq workflow](images/rnaseq-workflow.png)"
   ]
  },
  {
   "cell_type": "markdown",
   "id": "a7a36a12",
   "metadata": {},
   "source": [
    "## Learning Objectives\n",
    "\n",
    "* **Understanding Snakemake configuration:** Learners will examine Snakemake configuration files (YAML) and understand their role in defining the workflow.\n",
    "\n",
    "* **Running a Snakemake workflow:** Participants will execute a pre-written Snakemake workflow for RNA-Seq analysis, encompassing steps like read trimming, quality control, mapping, and read counting.  They learn to interpret and utilize a Snakefile.\n",
    "\n",
    "* **Interpreting RNA-Seq results:**  Learners will learn how to access and interpret the output of the Snakemake workflow, including identifying highly expressed genes and examining the expression levels of specific genes of interest.  This involves using command-line tools like `sort`, `head`, and `grep`.\n",
    "\n",
    "* **Navigating a modular workflow:** The notebook introduces the concept of modularity in bioinformatics analysis by showcasing additional related notebooks (workflows)  covering different aspects of RNA-Seq analysis (e.g., extended tutorials, differential gene expression analysis using R).  This emphasizes the organization and scalability of workflows."
   ]
  },
  {
   "cell_type": "markdown",
   "id": "44529775",
   "metadata": {},
   "source": [
    "## Prerequisites\n",
    "\n",
    "This Jupyter Notebook performs RNA-Seq analysis using Snakemake, relying on several external tools and data sources. Here's a breakdown of the prerequisites:\n",
    "\n",
    "**APIs:**\n",
    "\n",
    "* **aws s3:**  The Amazon S3 Storag tool `aws s3` is used extensively to download data from an Amazon S3 bucket.  This implicitly requires the Amazon S3 API to be enabled.\n",
    "\n",
    "**Software and Dependencies:**\n",
    "\n",
    "* **Snakemake:** This workflow manager orchestrates the entire RNA-Seq pipeline.\n",
    "* **Bioconda Channels:** The notebook uses bioconda channels to install bioinformatic tools.\n",
    "* **Other tools (installed via bioconda):** The Snakemake workflow uses multiple bioinformatic tools (like Trimmomatic and Salmon) that will be installed through the specified mamba environments. The notebook doesn't explicitly list all the tools used within the Snakemake workflow. This is specified within the `envs/*.yaml` files.\n",
    "* **Sufficient disk space:** The workflow requires sufficient space to store the downloaded data, intermediate files, and results. The amount of space will depend on the size of the datasets processed.\n",
    "* **Multiple CPU cores:** The notebook uses multiple cores (`--cores $CORES`) to speed up the analysis with snakemake. The number of cores utilized is determined by `nproc`.\n"
   ]
  },
  {
   "cell_type": "markdown",
   "id": "b45a0d7f",
   "metadata": {},
   "source": [
    "## Get Started"
   ]
  },
  {
   "cell_type": "markdown",
   "id": "b57b9b28-749a-42d0-8893-52d79573ab0e",
   "metadata": {},
   "source": [
    "**If you already completed Tutorial 1, you should be able to skip to Step 6: Snakemake Configs**"
   ]
  },
  {
   "cell_type": "markdown",
   "id": "dd7ab630-955d-43d1-bc43-c7b3e701ed04",
   "metadata": {},
   "source": [
    "### STEP 1: Install the tools"
   ]
  },
  {
   "cell_type": "code",
   "execution_count": null,
   "id": "a5d33f1a-e146-4ba1-accc-807339a0fd59",
   "metadata": {},
   "outputs": [],
   "source": [
    "! mamba install -y -c conda-forge -c bioconda trimmomatic fastqc multiqc salmon"
   ]
  },
  {
   "cell_type": "markdown",
   "id": "43d67299-cf08-4df0-99a3-aee8c761248a",
   "metadata": {},
   "source": [
    "### STEP 2: Create directories that will be used in our analysis"
   ]
  },
  {
   "cell_type": "code",
   "execution_count": null,
   "id": "773ba697-01f2-487d-b7ff-9885959b85cb",
   "metadata": {},
   "outputs": [],
   "source": [
    "! echo $PWD\n",
    "! mkdir -p data\n",
    "! mkdir -p data/raw_fastq\n",
    "! mkdir -p data/raw_fastqSub\n",
    "! mkdir -p data/trimmed\n",
    "! mkdir -p data/reference\n",
    "! mkdir -p data/fastqc\n",
    "! mkdir -p envs"
   ]
  },
  {
   "cell_type": "code",
   "execution_count": null,
   "id": "dffc2bd4-c51f-496e-967e-a2a1a2536de2",
   "metadata": {},
   "outputs": [],
   "source": [
    "numthreads=!nproc\n",
    "numthreadsint = int(numthreads[0])\n",
    "%env CORES = $numthreadsint\n",
    "#!echo ${CORES}"
   ]
  },
  {
   "cell_type": "markdown",
   "id": "bb0ce8d5-4b96-4e97-88ed-44e8e85f4fc0",
   "metadata": {},
   "source": [
    "### STEP 3: Copy FASTQ Files\n",
    "In order for this tutorial to run quickly, we will only analyze 50,000 reads from a sample from both sample groupsinstead of analyzing all the reads from all six samples. These files have been posted on an Amazon S3 Bucket that we made publicly accessible."
   ]
  },
  {
   "cell_type": "code",
   "execution_count": null,
   "id": "db364248-e608-47c9-ab82-b5eab24ccfb0",
   "metadata": {},
   "outputs": [],
   "source": [
    "! aws s3 cp --recursive s3://nigms-sandbox/me-inbre-rnaseq-pipelinev2/data/raw_fastqSub data/raw_fastq"
   ]
  },
  {
   "cell_type": "markdown",
   "id": "ec692c28-f549-43af-bbdf-3c4266fb59ae",
   "metadata": {},
   "source": [
    "### STEP 4: Copy reference transcriptome files that will be used by Salmon\n",
    "Salmon is a tool that aligns RNA-Seq reads to a set of transcripts rather than the entire genome."
   ]
  },
  {
   "cell_type": "code",
   "execution_count": null,
   "id": "263c3e9c-4fc2-4945-a639-e1079e1aff5c",
   "metadata": {},
   "outputs": [],
   "source": [
    "! aws s3 cp s3://nigms-sandbox/me-inbre-rnaseq-pipelinev2/data/reference/M_chelonae_transcripts.fasta data/reference/M_chelonae_transcripts.fasta\n",
    "! aws s3 cp s3://nigms-sandbox/me-inbre-rnaseq-pipelinev2/data/reference/decoys.txt data/reference/decoys.txt"
   ]
  },
  {
   "cell_type": "markdown",
   "id": "ea2d17cb-dff6-45d3-9aef-3ec6203508f6",
   "metadata": {},
   "source": [
    "### STEP 5: Copy data file for Trimmomatic"
   ]
  },
  {
   "cell_type": "code",
   "execution_count": null,
   "id": "7200cafc-c816-48f1-819c-dd3c2ce34de3",
   "metadata": {},
   "outputs": [],
   "source": [
    "! aws s3 cp s3://nigms-sandbox/me-inbre-rnaseq-pipelinev2/config/TruSeq3-PE.fa ."
   ]
  },
  {
   "cell_type": "markdown",
   "id": "5ac668db-7851-418e-9b1e-0a2c4abbab6e",
   "metadata": {},
   "source": [
    "Next download config files for our snakemake environment, as well as data files which we will analyze."
   ]
  },
  {
   "cell_type": "markdown",
   "id": "590fb3d9-2f61-4ad1-a180-7e59ac408016",
   "metadata": {},
   "source": [
    "### STEP 6: Copy config files for Snakemake\n"
   ]
  },
  {
   "cell_type": "code",
   "execution_count": null,
   "id": "a227a36a-a398-49f5-b497-7405574b018b",
   "metadata": {},
   "outputs": [],
   "source": [
    "# Copy config and data files\n",
    "! mkdir envs\n",
    "! aws s3 cp s3://nigms-sandbox/me-inbre-rnaseq-pipelinev2/config.yaml .\n",
    "! aws s3 cp s3://nigms-sandbox/me-inbre-rnaseq-pipelinev2/snakefile .\n",
    "! aws s3 cp --recursive s3://nigms-sandbox/me-inbre-rnaseq-pipelinev2/envs/ envs/"
   ]
  },
  {
   "cell_type": "markdown",
   "id": "c64efb6e-cf92-4c6f-af76-d60c9a10ed59",
   "metadata": {},
   "source": [
    "#### Explanation of config files\n",
    "\n",
    "Snakemake is unique in that it uses config files to manage workflows in the form of 'yaml' files, as well as a 'snakefile'.\n",
    "\n",
    "Below is a brief example of some of the yaml config files:"
   ]
  },
  {
   "cell_type": "code",
   "execution_count": null,
   "id": "c648b302-f125-4dd6-b4e7-0d371e65b81d",
   "metadata": {},
   "outputs": [],
   "source": [
    "! printf \"The config.yaml file contains our sample names:\\n\\n Config.yaml\\n\"\n",
    "! cat config.yaml\n",
    "! printf \"\\n\\nThe env folder contains information pertaining to packages to be used in the environment, \\nas well as their version, for example, here is the 'envs/fastqc.yaml' file:\\n\\n Fastqc.Yaml\\n\"\n",
    "! cat envs/fastqc.yaml"
   ]
  },
  {
   "cell_type": "markdown",
   "id": "797a8820-bd22-458a-8f1b-a35d34cee516",
   "metadata": {},
   "source": [
    "### STEP 7: Install Snakemake"
   ]
  },
  {
   "cell_type": "code",
   "execution_count": null,
   "id": "c6d06e83-9e0b-41f4-a90b-3876eb143e25",
   "metadata": {},
   "outputs": [],
   "source": [
    "! mamba create -c conda-forge -c bioconda -n snakemake snakemake -y;"
   ]
  },
  {
   "cell_type": "markdown",
   "id": "ec2c0273-c7f1-4aee-bdf3-43d5773cf2fa",
   "metadata": {},
   "source": [
    "### STEP 8: Run Snakemake on our snakefile\n",
    "\n",
    "Aside from the .yaml config files which information about software, dependencies, and versions -- snakemake uses a snakefile which contains information about a workflow.\n",
    "\n",
    "This can be a powerful tool as it allows one to operate and think in terms of workflows instead of individual steps. \n",
    "\n",
    "Feel free to open the snakefile to look at it further. It is composed of 'rules' we have created.\n",
    "\n",
    "Snakefiles work largely based on inputs. For a given input, there is an associated 'rule' that runs.\n",
    "\n",
    "Snakefiles may take a while to get the idea of what's going on, but in simplest terms here we take an input of .fastq files, and based on the snakefile rules we created, those fastq files are run through the entire workflow of tutorial one.\n"
   ]
  },
  {
   "cell_type": "code",
   "execution_count": null,
   "id": "463c59d0-1bd4-4d6e-a293-0acd9ea45b07",
   "metadata": {},
   "outputs": [],
   "source": [
    "! ls data/raw_fastqSub"
   ]
  },
  {
   "cell_type": "code",
   "execution_count": null,
   "id": "d0aec50a-b37f-4464-afa9-e1e037f78b11",
   "metadata": {},
   "outputs": [],
   "source": [
    "! mamba config --set channel_priority strict"
   ]
  },
  {
   "cell_type": "code",
   "execution_count": null,
   "id": "bee32318-33df-43b2-98bc-5eb091ceae59",
   "metadata": {},
   "outputs": [],
   "source": [
    "# Calling snakemake directly from Anaconda3 to avoid \"mamba activate snakemake\" command\n",
    "! /home/ec2-user/anaconda3/envs/snakemake/bin/snakemake --cores $CORES --forceall   "
   ]
  },
  {
   "cell_type": "markdown",
   "id": "df9deb0a-1030-4839-aa16-37c3b32a2c87",
   "metadata": {},
   "source": [
    "### STEP 9: Report the top 10 most highly expressed genes in the samples."
   ]
  },
  {
   "cell_type": "markdown",
   "id": "d50f9bd2-dbd2-467f-a9b6-313e63ad304b",
   "metadata": {},
   "source": [
    "Top 10 most highly expressed genes in the wild-type sample. The level of expression is reported in the Transcripts Per Million (`TPM`) and number of reads (`NumReads`) fields:  \n",
    "`Name    Length  EffectiveLength TPM     NumReads`\n"
   ]
  },
  {
   "cell_type": "code",
   "execution_count": null,
   "id": "7776f671-30a0-4ba8-a9cc-e3434d40cc48",
   "metadata": {},
   "outputs": [],
   "source": [
    "! sort -nrk 5,5 data/quants/SRR13349122_quant/quant.sf | head -10"
   ]
  },
  {
   "cell_type": "markdown",
   "id": "678efdde-1782-4481-9240-054c34528163",
   "metadata": {},
   "source": [
    "Top 10 most highly expressed genes in the double lysogen sample.\n"
   ]
  },
  {
   "cell_type": "code",
   "execution_count": null,
   "id": "1ceee200-b741-4954-b950-85edec98eb90",
   "metadata": {},
   "outputs": [],
   "source": [
    "! sort -nrk 5,5 data/quants/SRR13349128_quant/quant.sf | head -10"
   ]
  },
  {
   "cell_type": "markdown",
   "id": "50169f62-e707-4d84-b301-ded51a704130",
   "metadata": {},
   "source": [
    "### STEP 10: Report the expression of a putative acyl-ACP desaturase (BB28_RS16545) that was downregulated in the double lysogen relative to wild-type\n",
    "A acyl-transferase was reported to be downregulated in the double lysogen as shown in the table of the top 20 upregulated and downregulated genes from the paper describing the study.\n",
    "![RNA-Seq workflow](images/table-cushman.png)"
   ]
  },
  {
   "cell_type": "markdown",
   "id": "5b3794b0-a477-45fa-aa51-4414d7671441",
   "metadata": {},
   "source": [
    "Use `grep` to report the expression in the wild-type sample. The fields in the Salmon `quant.sf` file are as follows. The level of expression is reported in the Transcripts Per Million (`TPM`) and number of reads (`NumReads`) fields:  \n",
    "`Name    Length  EffectiveLength TPM     NumReads`"
   ]
  },
  {
   "cell_type": "code",
   "execution_count": null,
   "id": "a3cb9340-682b-4177-837d-7d803a9775a5",
   "metadata": {},
   "outputs": [],
   "source": [
    "! grep 'BB28_RS16545' data/quants/SRR13349122_quant/quant.sf"
   ]
  },
  {
   "cell_type": "markdown",
   "id": "79ba6401-261d-43e9-b831-ef76122da623",
   "metadata": {},
   "source": [
    "Use `grep` to report the expression in the double lysogen sample. The fields in the Salmon `quant.sf` file are as follows. The level of expression is reported in the Transcripts Per Million (`TPM`) and number of reads (`NumReads`) fields:  \n",
    "`Name    Length  EffectiveLength TPM     NumReads`"
   ]
  },
  {
   "cell_type": "code",
   "execution_count": null,
   "id": "745ea1c5-79d3-481c-9359-6e0a93b9a286",
   "metadata": {},
   "outputs": [],
   "source": [
    "! grep 'BB28_RS16545' data/quants/SRR13349128_quant/quant.sf"
   ]
  },
  {
   "cell_type": "markdown",
   "id": "fa372596-3377-4443-a325-e68bfa44c079",
   "metadata": {},
   "source": [
    "## <a name=\"workflow\">Additional Workflows</a>"
   ]
  },
  {
   "cell_type": "markdown",
   "id": "7ac0bc9c-ff37-4ca1-b094-68f591d993a6",
   "metadata": {},
   "source": [
    "Now that you have read counts per gene, feel free to explore the R workflow which creates plots and analyses using these readcount files, or try other alternate workflows for creating read count files, such as the standard short or extended tutorials."
   ]
  },
  {
   "cell_type": "markdown",
   "id": "08a552e6-e8fb-49da-a223-34c370054910",
   "metadata": {},
   "source": [
    "\n",
    "[Workflow One:](Tutorial_1.ipynb) A short introduction to downloading and mapping sequences to a transcriptome using Trimmomatic and Salmon. Here is a link to the YouTube video demonstrating the tutorial: <https://youtu.be/ChGfBR4do_Y>.\n",
    "\n",
    "[Workflow One (Extended):](Tutorial_1B_Extended.ipynb) An extended version of workflow one. Once you have got your feet wet, you can retry workflow one with this extended version that covers the entire dataset, and includes elaboration such as using SRA tools for sequence downloading, and examples of running batches of fastq files through the pipeline. This workflow may take around an hour to run.\n",
    "\n",
    "[Workflow One (Using Snakemake):](Tutorial_2_Snakemake.ipynb) Using snakemake to run workflow one.\n",
    "\n",
    "[Workflow Two (DEG Analysis):](Tutorial_3_DEG_Analysis.ipynb) Using Deseq2 and R to conduct clustering and differential gene expression analysis.\n"
   ]
  },
  {
   "cell_type": "markdown",
   "id": "fcf924fb-4301-43ee-b3d5-377c5623c146",
   "metadata": {},
   "source": [
    "![RNA-Seq workflow](images/RNA-Seq_Notebook_Homepage.png)"
   ]
  },
  {
   "cell_type": "markdown",
   "id": "ed783d33",
   "metadata": {},
   "source": [
    "## Conclusion\n",
    "\n",
    "This Jupyter Notebook provided a comprehensive demonstration of RNA-Seq data analysis using Snakemake, a powerful workflow management system.  The tutorial efficiently processed a prokaryotic RNA-Seq dataset, covering key steps from read trimming and quality control using Trimmomatic and FastQC to read mapping and quantification of gene expression with Salmon.  The use of Snakemake streamlined the workflow, enabling reproducible and manageable execution of the entire pipeline.  The notebook successfully generated gene expression counts, allowing for downstream analyses like identifying differentially expressed genes (as shown by examples in the notebook) and further exploration using provided links to additional notebooks, including a DEG analysis workflow (Tutorial 3) and an extended version of the current Snakemake workflow focusing on scalability and broader data handling. This tutorial serves as a valuable resource for understanding and implementing RNA-Seq analysis using a robust and reproducible approach.  The clear instructions and readily available supplementary materials make it easily adaptable for both novice and experienced users."
   ]
  },
  {
   "cell_type": "markdown",
   "id": "91427b39",
   "metadata": {},
   "source": [
    "## Clean Up\n",
    "\n",
    "Remember to move to the next notebook or shut down your instance if you are finished."
   ]
  }
 ],
 "metadata": {
  "language_info": {
   "name": "python"
  }
 },
 "nbformat": 4,
 "nbformat_minor": 5
}
